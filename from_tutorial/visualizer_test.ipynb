{
 "cells": [
  {
   "cell_type": "code",
   "execution_count": 1,
   "id": "f8d946b7",
   "metadata": {},
   "outputs": [],
   "source": [
    "import numpy as np\n",
    "import os\n",
    "from pydrake.common import temp_directory, FindResourceOrThrow\n",
    "from pydrake.geometry import (\n",
    "    MeshcatVisualizer, MeshcatVisualizerParams, \n",
    "    Role, StartMeshcat\n",
    ")\n",
    "\n",
    "from pydrake.math import RigidTransform, RollPitchYaw\n",
    "from pydrake.multibody.parsing import Parser\n",
    "from pydrake.multibody.plant import AddMultibodyPlantSceneGraph\n",
    "from pydrake.systems.analysis import Simulator\n",
    "from pydrake.systems.framework import DiagramBuilder\n",
    "from pydrake.visualization import ModelVisualizer"
   ]
  },
  {
   "cell_type": "code",
   "execution_count": 2,
   "id": "e4d18ad2",
   "metadata": {},
   "outputs": [
    {
     "name": "stderr",
     "output_type": "stream",
     "text": [
      "INFO:drake:Meshcat listening for connections at http://localhost:7000\n"
     ]
    }
   ],
   "source": [
    "meshcat = StartMeshcat()"
   ]
  },
  {
   "cell_type": "markdown",
   "id": "83cc78bd",
   "metadata": {},
   "source": [
    "# MODEL VIEWING"
   ]
  },
  {
   "cell_type": "code",
   "execution_count": 3,
   "id": "36edbaec",
   "metadata": {},
   "outputs": [
    {
     "data": {
      "text/plain": [
       "'/home/dema/PycharmProjects/robot_manipulator/lib/python3.10/site-packages/pydrake/common/../lib/../share/drake/manipulation/models/iiwa_description/iiwa7/iiwa7_with_box_collision.sdf'"
      ]
     },
     "execution_count": 3,
     "metadata": {},
     "output_type": "execute_result"
    }
   ],
   "source": [
    "iiwa7_model_url = FindResourceOrThrow(\"drake/manipulation/models/iiwa_description/iiwa7/iiwa7_with_box_collision.sdf\")\n",
    "iiwa7_model_url"
   ]
  },
  {
   "cell_type": "code",
   "execution_count": 4,
   "id": "70908962",
   "metadata": {},
   "outputs": [
    {
     "data": {
      "text/plain": [
       "[ModelInstanceIndex(2)]"
      ]
     },
     "execution_count": 4,
     "metadata": {},
     "output_type": "execute_result"
    }
   ],
   "source": [
    "visualizer = ModelVisualizer(meshcat=meshcat)\n",
    "visualizer.parser().AddModels(file_name=iiwa7_model_url)"
   ]
  },
  {
   "cell_type": "code",
   "execution_count": 5,
   "id": "2b569c75",
   "metadata": {},
   "outputs": [
    {
     "name": "stdout",
     "output_type": "stream",
     "text": [
      "Click 'Stop Running' or press Esc to quit\n"
     ]
    },
    {
     "data": {
      "text/plain": [
       "<RunResult.STOPPED: 2>"
      ]
     },
     "execution_count": 5,
     "metadata": {},
     "output_type": "execute_result"
    }
   ],
   "source": [
    "# When this notebook is run in test mode it needs to stop execution without\n",
    "# user interaction. For interactive model visualization you won't normally\n",
    "# need the 'loop_once' flag.\n",
    "test_mode = True if \"TEST_SRCDIR\" in os.environ else False\n",
    "\n",
    "# Start the interactive visualizer.\n",
    "# Click the \"Stop Running\" button in MeshCat when you're finished.\n",
    "visualizer.Run(loop_once=test_mode)\n",
    "\n"
   ]
  },
  {
   "cell_type": "code",
   "execution_count": 84,
   "id": "6bf34768",
   "metadata": {},
   "outputs": [],
   "source": [
    "schunk_wsg50_model_url = FindResourceOrThrow(\n",
    "    \"drake/manipulation/models/wsg_50_description/sdf/schunk_wsg_50_with_tip.sdf\"\n",
    ")"
   ]
  },
  {
   "cell_type": "code",
   "execution_count": 85,
   "id": "cdb48906",
   "metadata": {},
   "outputs": [
    {
     "data": {
      "text/plain": [
       "'/home/dema/PycharmProjects/robot_manipulator/lib/python3.10/site-packages/pydrake/common/../lib/../share/drake/manipulation/models/wsg_50_description/sdf/schunk_wsg_50_with_tip.sdf'"
      ]
     },
     "execution_count": 85,
     "metadata": {},
     "output_type": "execute_result"
    }
   ],
   "source": [
    "schunk_wsg50_model_url"
   ]
  },
  {
   "cell_type": "code",
   "execution_count": 87,
   "id": "2ff888b1",
   "metadata": {},
   "outputs": [
    {
     "name": "stdout",
     "output_type": "stream",
     "text": [
      "Click 'Stop Running' or press Esc to quit\n"
     ]
    },
    {
     "data": {
      "text/plain": [
       "<RunResult.STOPPED: 2>"
      ]
     },
     "execution_count": 87,
     "metadata": {},
     "output_type": "execute_result"
    }
   ],
   "source": [
    "visualizer = ModelVisualizer(meshcat=meshcat)\n",
    "visualizer.parser().AddModels(file_name=schunk_wsg50_model_url)\n",
    "visualizer.Run(loop_once=False)"
   ]
  },
  {
   "cell_type": "markdown",
   "id": "d299b1d9",
   "metadata": {},
   "source": [
    "# Model DEF sdf"
   ]
  },
  {
   "cell_type": "code",
   "execution_count": 68,
   "id": "0b693732",
   "metadata": {},
   "outputs": [
    {
     "data": {
      "text/plain": [
       "<RunResult.LOOP_ONCE: 1>"
      ]
     },
     "execution_count": 68,
     "metadata": {},
     "output_type": "execute_result"
    }
   ],
   "source": [
    "cylinder_sdf = \"\"\"\n",
    "<?xml version=\"1.0\"?>\n",
    "<sdf version=\"1.7\">\n",
    "    <model name=\"cylinder\">\n",
    "        <pose>0 0 0 0 0 0</pose>\n",
    "        <link name=\"cylinder_link\">\n",
    "            <inertial>\n",
    "                <mass>1.0</mass>\n",
    "                <inertia>\n",
    "                  <ixx>0.005833</ixx>\n",
    "                  <ixy>0.0</ixy>\n",
    "                  <ixz>0.0</ixz>\n",
    "                  <iyy>0.005833</iyy>\n",
    "                  <iyz>0.0</iyz>\n",
    "                  <izz>0.005</izz>\n",
    "                </inertia>\n",
    "            </inertial>\n",
    "\n",
    "            <collision name=\"collision\">\n",
    "                <geometry>\n",
    "                    <cylinder>\n",
    "                        <radius>0.1</radius>\n",
    "                        <length>0.2</length>\n",
    "                    </cylinder>\n",
    "                </geometry>\n",
    "            </collision>\n",
    "\n",
    "            <visual name=\"visual\">\n",
    "                <geometry>\n",
    "                    <cylinder>\n",
    "                        <radius>0.1</radius>\n",
    "                        <length>0.2</length>                    \n",
    "                    </cylinder>\n",
    "                </geometry>\n",
    "                <material>\n",
    "                    <diffuse>1.0 1.0 1.0 1.0</diffuse>\n",
    "                </material>\n",
    "            </visual>\n",
    "        </link>\n",
    "    </model>\n",
    "</sdf>\n",
    "\"\"\"\n",
    "\n",
    "visualizer = ModelVisualizer(meshcat=meshcat)\n",
    "visualizer.parser().AddModelsFromString(cylinder_sdf, 'sdf')\n",
    "visualizer.Run(loop_once=True)"
   ]
  },
  {
   "cell_type": "code",
   "execution_count": 95,
   "id": "329943ee",
   "metadata": {},
   "outputs": [
    {
     "name": "stdout",
     "output_type": "stream",
     "text": [
      "Click 'Stop Running' or press Esc to quit\n"
     ]
    },
    {
     "data": {
      "text/plain": [
       "<RunResult.STOPPED: 2>"
      ]
     },
     "execution_count": 95,
     "metadata": {},
     "output_type": "execute_result"
    }
   ],
   "source": [
    "path = '../robot_models/planar_2R.sdf'\n",
    "visualizer = ModelVisualizer(meshcat=meshcat)\n",
    "visualizer.parser().AddModelFromFile(path)\n",
    "visualizer.Run(loop_once=False)"
   ]
  },
  {
   "cell_type": "code",
   "execution_count": null,
   "id": "bd4feb7b",
   "metadata": {},
   "outputs": [
    {
     "name": "stdout",
     "output_type": "stream",
     "text": [
      "Click 'Stop Running' or press Esc to quit\n"
     ]
    }
   ],
   "source": [
    "full_2r_directives = '''\n",
    "directives: \n",
    "- add_model: \n",
    "    name: 2R_planar_robot\n",
    "    file: file:///home/dema/PycharmProjects/robot_manipulator/robot_models/planar_2R.sdf\n",
    "    default_joint_positions: \n",
    "        q1: [0]\n",
    "        q2: [0]\n",
    "\n",
    "\n",
    "- add_model: \n",
    "    name: end_effector\n",
    "    file: file:///home/dema/PycharmProjects/robot_manipulator/lib/python3.10/site-packages/pydrake/common/../lib/../share/drake/manipulation/models/wsg_50_description/sdf/schunk_wsg_50_with_tip.sdf\n",
    "- add_weld: \n",
    "    parent: 2R_planar_robot::l2\n",
    "    child: end_effector::body_frame\n",
    "    X_PC: \n",
    "        translation: [0, 0, -0.25]\n",
    "        rotation: !Rpy {deg: [-90, 0, 0]}\n",
    "'''\n",
    "visualizer = ModelVisualizer(meshcat=meshcat)\n",
    "visualizer.parser().AddModelsFromString(full_2r_directives, '.dmd.yaml')\n",
    "visualizer.Run(loop_once=False)\n"
   ]
  },
  {
   "cell_type": "code",
   "execution_count": 111,
   "id": "aebf2226",
   "metadata": {},
   "outputs": [],
   "source": [
    "import urllib.parse\n",
    "\n",
    "def path_to_uri(path):\n",
    "    \"\"\"Convert a local file path to a file URI.\"\"\"\n",
    "    # Use the 'file://' scheme for local file URIs\n",
    "    # Encode the path to handle spaces and other special characters\n",
    "    return urllib.parse.urljoin('file:', urllib.parse.quote(path))"
   ]
  },
  {
   "cell_type": "code",
   "execution_count": 112,
   "id": "de4303c9",
   "metadata": {},
   "outputs": [
    {
     "data": {
      "text/plain": [
       "'file:///robot_models/planar_2R.sdf'"
      ]
     },
     "execution_count": 112,
     "metadata": {},
     "output_type": "execute_result"
    }
   ],
   "source": [
    "path_to_uri('../robot_models/planar_2R.sdf')"
   ]
  }
 ],
 "metadata": {
  "kernelspec": {
   "display_name": "robot_manipulator",
   "language": "python",
   "name": "robot_manipulator"
  },
  "language_info": {
   "codemirror_mode": {
    "name": "ipython",
    "version": 3
   },
   "file_extension": ".py",
   "mimetype": "text/x-python",
   "name": "python",
   "nbconvert_exporter": "python",
   "pygments_lexer": "ipython3",
   "version": "3.10.6"
  }
 },
 "nbformat": 4,
 "nbformat_minor": 5
}
