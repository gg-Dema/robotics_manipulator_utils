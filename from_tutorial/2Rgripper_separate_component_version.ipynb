{
 "cells": [
  {
   "cell_type": "code",
   "execution_count": 7,
   "id": "a78486ee",
   "metadata": {},
   "outputs": [],
   "source": [
    "import numpy as np\n",
    "import os\n",
    "from pydrake.common import temp_directory, FindResourceOrThrow\n",
    "from pydrake.geometry import (\n",
    "    MeshcatVisualizer, MeshcatVisualizerParams, \n",
    "    Role, StartMeshcat\n",
    ")\n",
    "\n",
    "from pydrake.math import RigidTransform, RollPitchYaw\n",
    "from pydrake.multibody.parsing import Parser\n",
    "from pydrake.multibody.plant import AddMultibodyPlantSceneGraph\n",
    "from pydrake.systems.analysis import Simulator\n",
    "from pydrake.systems.framework import DiagramBuilder\n",
    "from pydrake.visualization import ModelVisualizer\n",
    "\n",
    "from manipulation.scenarios import AddMultibodyTriad, AddPackagePaths"
   ]
  },
  {
   "cell_type": "code",
   "execution_count": 8,
   "id": "55417e97",
   "metadata": {},
   "outputs": [
    {
     "name": "stderr",
     "output_type": "stream",
     "text": [
      "INFO:drake:Meshcat listening for connections at http://localhost:7003\n"
     ]
    }
   ],
   "source": [
    "meshcat = StartMeshcat()"
   ]
  },
  {
   "cell_type": "code",
   "execution_count": 15,
   "id": "2ded4c93",
   "metadata": {},
   "outputs": [],
   "source": [
    "hand_url = FindResourceOrThrow(\n",
    "    \"drake/manipulation/models/wsg_50_description/sdf/schunk_wsg_50_with_tip.sdf\"\n",
    ")\n",
    "arm_url = '../robot_models/planar_2R.sdf'\n",
    "\n",
    "full_2r_directives = '''\n",
    "directives: \n",
    "- add_model: \n",
    "    name: 2R_planar_robot\n",
    "    file: file:///home/dema/PycharmProjects/robot_manipulator/robot_models/Planar-v2.sdf\n",
    "    default_joint_positions: \n",
    "        q1: [0]\n",
    "        q2: [0]\n",
    "\n",
    "\n",
    "- add_model: \n",
    "    name: end_effector\n",
    "    file: file:///home/dema/PycharmProjects/robot_manipulator/lib/python3.10/site-packages/pydrake/common/../lib/../share/drake/manipulation/models/wsg_50_description/sdf/schunk_wsg_50_with_tip.sdf\n",
    "- add_weld: \n",
    "    parent: 2R_planar_robot::l2\n",
    "    child: end_effector::body_frame\n",
    "    X_PC: \n",
    "        translation: [0, 0.5, 0]\n",
    "        rotation: !Rpy {deg: [0, 0, 1.6]}\n",
    "'''\n"
   ]
  },
  {
   "cell_type": "code",
   "execution_count": 19,
   "id": "dc8cb04f",
   "metadata": {},
   "outputs": [],
   "source": [
    "\n",
    "builder = DiagramBuilder()\n",
    "time_step = 0.003\n",
    "plant, scene_graph = AddMultibodyPlantSceneGraph(builder, time_step)\n",
    "\n",
    "parser = Parser(plant)\n",
    "parser.AddModelsFromString(full_2r_directives, '.dmd.yaml')\n",
    "plant.Finalize()\n",
    "\n",
    "BODY_NAMES = ['l1', 'l2', 'body']\n",
    "for body_name in BODY_NAMES:  \n",
    "    AddMultibodyTriad(plant.GetFrameByName(body_name), scene_graph)\n",
    "       \n",
    "visualizer = MeshcatVisualizer.AddToBuilder(\n",
    "    builder, \n",
    "    scene_graph.get_query_output_port(),\n",
    "    meshcat\n",
    ")\n",
    "\n",
    "diagram = builder.Build()\n",
    "diagram_context = diagram.CreateDefaultContext()\n",
    "    \n",
    "diagram.ForcedPublish(diagram_context)\n"
   ]
  },
  {
   "cell_type": "code",
   "execution_count": 20,
   "id": "62d66cb6",
   "metadata": {},
   "outputs": [
    {
     "ename": "RuntimeError",
     "evalue": "Actuation input port for model instance 2R_planar_robot must be connected.",
     "output_type": "error",
     "traceback": [
      "\u001b[0;31m---------------------------------------------------------------------------\u001b[0m",
      "\u001b[0;31mRuntimeError\u001b[0m                              Traceback (most recent call last)",
      "Cell \u001b[0;32mIn[20], line 6\u001b[0m\n\u001b[1;32m      4\u001b[0m visualizer\u001b[38;5;241m.\u001b[39mStartRecording()\n\u001b[1;32m      5\u001b[0m simulator\u001b[38;5;241m.\u001b[39mInitialize()\n\u001b[0;32m----> 6\u001b[0m \u001b[43msimulator\u001b[49m\u001b[38;5;241;43m.\u001b[39;49m\u001b[43mAdvanceTo\u001b[49m\u001b[43m(\u001b[49m\u001b[38;5;241;43m5.0\u001b[39;49m\u001b[43m)\u001b[49m\n\u001b[1;32m      7\u001b[0m visualizer\u001b[38;5;241m.\u001b[39mStopRecording()\n\u001b[1;32m      8\u001b[0m visualizer\u001b[38;5;241m.\u001b[39mPublishRecording()\n",
      "\u001b[0;31mRuntimeError\u001b[0m: Actuation input port for model instance 2R_planar_robot must be connected."
     ]
    }
   ],
   "source": [
    "\n",
    "simulator = Simulator(diagram, diagram_context)\n",
    "simulator.set_target_realtime_rate(1.0)\n",
    "simulator.set_publish_every_time_step(False)\n",
    "visualizer.StartRecording()\n",
    "simulator.Initialize()\n",
    "simulator.AdvanceTo(5.0)\n",
    "visualizer.StopRecording()\n",
    "visualizer.PublishRecording()\n"
   ]
  },
  {
   "cell_type": "code",
   "execution_count": null,
   "id": "6b8fb570",
   "metadata": {},
   "outputs": [],
   "source": []
  }
 ],
 "metadata": {
  "kernelspec": {
   "display_name": "robot_manipulator",
   "language": "python",
   "name": "robot_manipulator"
  },
  "language_info": {
   "codemirror_mode": {
    "name": "ipython",
    "version": 3
   },
   "file_extension": ".py",
   "mimetype": "text/x-python",
   "name": "python",
   "nbconvert_exporter": "python",
   "pygments_lexer": "ipython3",
   "version": "3.10.6"
  }
 },
 "nbformat": 4,
 "nbformat_minor": 5
}
