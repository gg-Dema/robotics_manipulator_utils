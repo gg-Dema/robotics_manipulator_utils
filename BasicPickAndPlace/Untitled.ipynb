{
 "cells": [
  {
   "cell_type": "code",
   "execution_count": 15,
   "id": "6250fdfd",
   "metadata": {},
   "outputs": [],
   "source": [
    "import numpy as np\n",
    "from IPython.display import clear_output, display\n",
    "from pydrake.all import (StartMeshcat, MeshcatVisualizer,\n",
    "                         LeafSystem, AddMultibodyPlantSceneGraph,\n",
    "                         JointSliders,\n",
    "                         DiagramBuilder)\n",
    "from manipulation import FindResource, running_as_notebook\n",
    "from manipulation.scenarios import AddPackagePaths"
   ]
  },
  {
   "cell_type": "code",
   "execution_count": 4,
   "id": "ec5d6f1b",
   "metadata": {},
   "outputs": [
    {
     "name": "stderr",
     "output_type": "stream",
     "text": [
      "INFO:drake:Meshcat listening for connections at http://localhost:7000\n"
     ]
    }
   ],
   "source": [
    "meshcat = StartMeshcat()"
   ]
  },
  {
   "cell_type": "code",
   "execution_count": 6,
   "id": "822a30c1",
   "metadata": {},
   "outputs": [],
   "source": [
    "class PrintJacobian(LeafSystem): \n",
    "    \n",
    "    def __init__(self, plant, frame):\n",
    "        LeafSystem.__init__(self)\n",
    "        self._plant = plant\n",
    "        self._plant_context = plant.CreateDefaultContext()\n",
    "        self._frame = frame\n",
    "        self.DeclareVectorInputPort('state', plant.num_multibody_states())\n",
    "        self.DeclareForcedPublishEvent(self.Publish)\n",
    "        \n",
    "    def Publish(self, context):\n",
    "        "
   ]
  },
  {
   "cell_type": "code",
   "execution_count": 16,
   "id": "666ffeed",
   "metadata": {},
   "outputs": [],
   "source": [
    "def pick_and_place_jacobians_example(): \n",
    "    \n",
    "    builder = DiagramBuilder()\n",
    "    plant, scene_graph = AddMultibodyPlantSceneGraph(builder, time_step=0)\n",
    "    parser = Parser(plant)\n",
    "    AddPackagePaths(parser)\n",
    "    parser.AddAllModelsFromFile(FindResource(\"models/iiwa_and_wsg.dmd.yaml\"))\n",
    "    plant.Finalize()\n",
    "    \n",
    "    meshcat.Delete()\n",
    "    visualizer = MeshcatVisualizer.AddToBuilder(\n",
    "        builder, scene_graph.get_query_output_port(), meshcat\n",
    "    )\n",
    "    \n",
    "    G = plant.GetBodyByName(\"body\").body_frame()\n",
    "    print_jacobian = builder.AddSystem(PrintJacobian(plant, G))\n",
    "    builder.Connect(plant.get_state_output_port(),\n",
    "                    print_jacobian.get_input_port())\n",
    "\n",
    "    # If you want to set the initial positions manually, use this:\n",
    "    #plant.SetPositions(plant.GetMyContextFromRoot(context),\n",
    "    #                   plant.GetModelInstanceByName(\"iiwa\"),\n",
    "    #                   [0, 0, 0, 0, 0, 0, 0])\n",
    "\n",
    "    default_interactive_timeout = None if running_as_notebook else 1.0\n",
    "    sliders = builder.AddSystem(JointSliders(meshcat, plant))\n",
    "    diagram = builder.Build()\n",
    "    sliders.Run(diagram, default_interactive_timeout)\n",
    "    meshcat.DeleteAddedControls()"
   ]
  },
  {
   "cell_type": "code",
   "execution_count": null,
   "id": "bd6d56bf",
   "metadata": {},
   "outputs": [
    {
     "name": "stderr",
     "output_type": "stream",
     "text": [
      "INFO:drake:Press the 'Stop JointSliders' button in Meshcat or press 'Escape' to continue.\n"
     ]
    }
   ],
   "source": [
    "meshcat.DeleteAddedControls()\n",
    "pick_and_place_jacobians_example()"
   ]
  }
 ],
 "metadata": {
  "kernelspec": {
   "display_name": "robot_manipulator",
   "language": "python",
   "name": "robot_manipulator"
  },
  "language_info": {
   "codemirror_mode": {
    "name": "ipython",
    "version": 3
   },
   "file_extension": ".py",
   "mimetype": "text/x-python",
   "name": "python",
   "nbconvert_exporter": "python",
   "pygments_lexer": "ipython3",
   "version": "3.10.6"
  }
 },
 "nbformat": 4,
 "nbformat_minor": 5
}
